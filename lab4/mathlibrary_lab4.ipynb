{
 "cells": [
  {
   "cell_type": "code",
   "execution_count": 7,
   "id": "713ee71b-2309-4ea2-a6c5-c5cf2ac57f6e",
   "metadata": {},
   "outputs": [
    {
     "name": "stdin",
     "output_type": "stream",
     "text": [
      " 15\n"
     ]
    },
    {
     "name": "stdout",
     "output_type": "stream",
     "text": [
      "0.261799\n"
     ]
    }
   ],
   "source": [
    "#Task 1\n",
    "import math\n",
    "def func(degree):\n",
    "    return degree * (math.pi / 180)\n",
    "degree = float(input())\n",
    "radian = func(degree)\n",
    "print(f\"{radian:.6f}\")"
   ]
  },
  {
   "cell_type": "code",
   "execution_count": 13,
   "id": "c795b774-daff-4645-9bb2-a4231ec20446",
   "metadata": {},
   "outputs": [
    {
     "name": "stdin",
     "output_type": "stream",
     "text": [
      "base 5\n",
      "base 5\n",
      "height 6\n"
     ]
    },
    {
     "name": "stdout",
     "output_type": "stream",
     "text": [
      "30.00\n"
     ]
    }
   ],
   "source": [
    "#Task 2\n",
    "def area(base1, base2, height):\n",
    "    return 0.5 * (base1 + base2) * height\n",
    "base1 = float(input(\"base\"))\n",
    "base2 = float(input(\"base\"))\n",
    "height = float(input(\"height\"))\n",
    "area = area(base1, base2, height)\n",
    "print(f\"{area:.2f}\")"
   ]
  },
  {
   "cell_type": "code",
   "execution_count": 15,
   "id": "5114b783-7bea-40a3-85b5-4c95498cb821",
   "metadata": {},
   "outputs": [
    {
     "name": "stdin",
     "output_type": "stream",
     "text": [
      "number of sides:  4\n",
      "length of each side:  25\n"
     ]
    },
    {
     "name": "stdout",
     "output_type": "stream",
     "text": [
      "625.00\n"
     ]
    }
   ],
   "source": [
    "#Task 3\n",
    "import math\n",
    "def polygon_area(sides, length):\n",
    "    return (sides * length ** 2) / (4 * math.tan(math.pi / sides))\n",
    "sides = int(input(\"number of sides: \"))\n",
    "length = float(input(\"length of each side: \"))\n",
    "area = polygon_area(sides, length)\n",
    "print(f\"{area:.2f}\")"
   ]
  },
  {
   "cell_type": "code",
   "execution_count": null,
   "id": "26ce40f1-c7d7-427f-8365-d652154fadd1",
   "metadata": {},
   "outputs": [],
   "source": []
  }
 ],
 "metadata": {
  "kernelspec": {
   "display_name": "Python [conda env:base] *",
   "language": "python",
   "name": "conda-base-py"
  },
  "language_info": {
   "codemirror_mode": {
    "name": "ipython",
    "version": 3
   },
   "file_extension": ".py",
   "mimetype": "text/x-python",
   "name": "python",
   "nbconvert_exporter": "python",
   "pygments_lexer": "ipython3",
   "version": "3.12.7"
  }
 },
 "nbformat": 4,
 "nbformat_minor": 5
}
