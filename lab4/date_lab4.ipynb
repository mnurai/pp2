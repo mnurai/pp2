{
 "cells": [
  {
   "cell_type": "code",
   "execution_count": 16,
   "id": "895c420e-01c6-410c-8316-f4bf7df40a9b",
   "metadata": {},
   "outputs": [
    {
     "name": "stdin",
     "output_type": "stream",
     "text": [
      "Enter the first date (YYYY-MM-DD HH:MM:SS):  2002-01-01 01:01:01\n",
      "Enter the second date (YYYY-MM-DD HH:MM:SS):  2009-03-03 03:03:03\n"
     ]
    },
    {
     "name": "stdout",
     "output_type": "stream",
     "text": [
      "\n",
      "Current Date: 2025-02-05\n",
      "Date after subtracting 5 days: 2025-01-31\n",
      "\n",
      "Yesterday: 2025-02-04\n",
      "Today: 2025-02-05\n",
      "Tomorrow: 2025-02-06\n",
      "\n",
      "Datetime with microseconds: 2025-02-05 11:24:06.104065\n",
      "Datetime without microseconds: 2025-02-05 11:24:06\n",
      "\n",
      "Difference in seconds: 226202522.0\n"
     ]
    }
   ],
   "source": [
    "from datetime import datetime, timedelta\n",
    "today = datetime.now()\n",
    "#Task 1\n",
    "new_date = current_date - timedelta(days=5)\n",
    "\n",
    "#Task 2\n",
    "yesterday = today - timedelta(days=1)\n",
    "tomorrow = today + timedelta(days=1)\n",
    "\n",
    "#Task 3\n",
    "now_without_microseconds = today.replace(microsecond=0)\n",
    "\n",
    "#Task 4\n",
    "date1_str = input(\"Enter the first date (YYYY-MM-DD HH:MM:SS): \")\n",
    "date2_str = input(\"Enter the second date (YYYY-MM-DD HH:MM:SS): \")\n",
    "date1 = datetime.strptime(date1_str, \"%Y-%m-%d %H:%M:%S\")\n",
    "date2 = datetime.strptime(date2_str, \"%Y-%m-%d %H:%M:%S\")\n",
    "difference = abs((date2 - date1).total_seconds())\n",
    "\n",
    "#Task 1 ouput\n",
    "print()\n",
    "print(\"Current Date:\", today.strftime(\"%Y-%m-%d\"))\n",
    "print(\"Date after subtracting 5 days:\", new_date.strftime(\"%Y-%m-%d\"))\n",
    "print()\n",
    "\n",
    "#Task 2 output\n",
    "print(\"Yesterday:\", yesterday.strftime(\"%Y-%m-%d\"))\n",
    "print(\"Today:\", today.strftime(\"%Y-%m-%d\"))\n",
    "print(\"Tomorrow:\", tomorrow.strftime(\"%Y-%m-%d\"))\n",
    "print()\n",
    "\n",
    "#Task 3 ouput\n",
    "print(\"Datetime with microseconds:\", today)\n",
    "print(\"Datetime without microseconds:\", now_without_microseconds)\n",
    "print()\n",
    "\n",
    "#Task 4 output\n",
    "print(f\"Difference in seconds: {difference}\")"
   ]
  },
  {
   "cell_type": "code",
   "execution_count": null,
   "id": "cb11717f-7589-4bca-9176-f371c13bf20a",
   "metadata": {},
   "outputs": [],
   "source": []
  }
 ],
 "metadata": {
  "kernelspec": {
   "display_name": "Python [conda env:base] *",
   "language": "python",
   "name": "conda-base-py"
  },
  "language_info": {
   "codemirror_mode": {
    "name": "ipython",
    "version": 3
   },
   "file_extension": ".py",
   "mimetype": "text/x-python",
   "name": "python",
   "nbconvert_exporter": "python",
   "pygments_lexer": "ipython3",
   "version": "3.12.7"
  }
 },
 "nbformat": 4,
 "nbformat_minor": 5
}
