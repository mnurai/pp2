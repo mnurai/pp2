{
 "cells": [
  {
   "cell_type": "code",
   "execution_count": 7,
   "id": "32381400-9cbf-4080-b2a2-980134cb4315",
   "metadata": {},
   "outputs": [
    {
     "name": "stdin",
     "output_type": "stream",
     "text": [
      " 4\n"
     ]
    },
    {
     "name": "stdout",
     "output_type": "stream",
     "text": [
      "1\n",
      "4\n",
      "9\n",
      "16\n"
     ]
    }
   ],
   "source": [
    "#Task 1\n",
    "def square_generator(N):\n",
    "    for i in range(1, N + 1):\n",
    "        yield i ** 2\n",
    "N = int(input())\n",
    "for square in square_generator(N):\n",
    "    print(square)"
   ]
  },
  {
   "cell_type": "code",
   "execution_count": 11,
   "id": "91e14467-d5f1-4260-bc1c-ed716a1998ef",
   "metadata": {},
   "outputs": [
    {
     "name": "stdin",
     "output_type": "stream",
     "text": [
      " 80\n"
     ]
    },
    {
     "name": "stdout",
     "output_type": "stream",
     "text": [
      "0, 2, 4, 6, 8, 10, 12, 14, 16, 18, 20, 22, 24, 26, 28, 30, 32, 34, 36, 38, 40, 42, 44, 46, 48, 50, 52, 54, 56, 58, 60, 62, 64, 66, 68, 70, 72, 74, 76, 78, 80\n"
     ]
    }
   ],
   "source": [
    "#Task 2\n",
    "def number_generator(N):\n",
    "    for i in range(0, N + 1, 2):\n",
    "        yield i\n",
    "N = int(input())\n",
    "print(\", \".join(map(str, number_generator(N))))"
   ]
  },
  {
   "cell_type": "code",
   "execution_count": 13,
   "id": "e61a65a6-29d7-4c19-964c-80a1fd96a0fa",
   "metadata": {},
   "outputs": [
    {
     "name": "stdin",
     "output_type": "stream",
     "text": [
      " 70\n"
     ]
    },
    {
     "name": "stdout",
     "output_type": "stream",
     "text": [
      "0, 12, 24, 36, 48, 60\n"
     ]
    }
   ],
   "source": [
    "#Task 3\n",
    "def number_generator(N):\n",
    "    for i in range(0, N + 1):\n",
    "        if i % 3 == 0 and i % 4 == 0:\n",
    "            yield i\n",
    "N = int(input())\n",
    "print(\", \".join(map(str, number_generator(N))))"
   ]
  },
  {
   "cell_type": "code",
   "execution_count": 17,
   "id": "dafd241f-f699-471c-a8dd-503f72b51f80",
   "metadata": {},
   "outputs": [
    {
     "name": "stdin",
     "output_type": "stream",
     "text": [
      " 1\n",
      " 4\n"
     ]
    },
    {
     "name": "stdout",
     "output_type": "stream",
     "text": [
      "1\n",
      "4\n",
      "9\n",
      "16\n"
     ]
    }
   ],
   "source": [
    "#Task 4\n",
    "def squares(a, b):\n",
    "    for i in range(a, b + 1):\n",
    "        yield i ** 2\n",
    "a = int(input())\n",
    "b = int(input())\n",
    "for square in squares(a, b):\n",
    "    print(square)"
   ]
  },
  {
   "cell_type": "code",
   "execution_count": 19,
   "id": "d034fd16-556e-4cc1-ba23-e2f6270bbac6",
   "metadata": {},
   "outputs": [
    {
     "name": "stdin",
     "output_type": "stream",
     "text": [
      " 4\n"
     ]
    },
    {
     "name": "stdout",
     "output_type": "stream",
     "text": [
      "4\n",
      "3\n",
      "2\n",
      "1\n",
      "0\n"
     ]
    }
   ],
   "source": [
    "#Task 5\n",
    "def num_generator(n):\n",
    "    for i in range(n, -1, -1):\n",
    "        yield i\n",
    "n = int(input())\n",
    "for num in num_generator(n):\n",
    "    print(num)"
   ]
  },
  {
   "cell_type": "code",
   "execution_count": null,
   "id": "f7338cf8-ebbd-4580-9cd2-e613389c968d",
   "metadata": {},
   "outputs": [],
   "source": []
  }
 ],
 "metadata": {
  "kernelspec": {
   "display_name": "Python [conda env:base] *",
   "language": "python",
   "name": "conda-base-py"
  },
  "language_info": {
   "codemirror_mode": {
    "name": "ipython",
    "version": 3
   },
   "file_extension": ".py",
   "mimetype": "text/x-python",
   "name": "python",
   "nbconvert_exporter": "python",
   "pygments_lexer": "ipython3",
   "version": "3.12.7"
  }
 },
 "nbformat": 4,
 "nbformat_minor": 5
}
