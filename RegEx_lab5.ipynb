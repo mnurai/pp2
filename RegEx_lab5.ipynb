{
 "cells": [
  {
   "cell_type": "code",
   "execution_count": 14,
   "id": "37ef3aa9-a920-4861-8502-5573ba87313a",
   "metadata": {},
   "outputs": [
    {
     "name": "stdin",
     "output_type": "stream",
     "text": [
      " sabyn\n"
     ]
    },
    {
     "name": "stdout",
     "output_type": "stream",
     "text": [
      "['ab']\n"
     ]
    }
   ],
   "source": [
    "#Task 1\n",
    "import re\n",
    "def extract_matches(text):\n",
    "    pattern = r'ab*'\n",
    "    return re.findall(pattern, text)\n",
    "text = input()\n",
    "print(extract_matches(text))"
   ]
  },
  {
   "cell_type": "code",
   "execution_count": 16,
   "id": "2888efc0-ea8f-4d95-82b1-f533354516e3",
   "metadata": {},
   "outputs": [
    {
     "name": "stdin",
     "output_type": "stream",
     "text": [
      " sabbbyn, sabyn\n"
     ]
    },
    {
     "name": "stdout",
     "output_type": "stream",
     "text": [
      "['abbb']\n"
     ]
    }
   ],
   "source": [
    "#Task 2\n",
    "import re\n",
    "def extract_matches(text):\n",
    "    pattern = r'ab{2,3}'\n",
    "    return re.findall(pattern, text)\n",
    "text = input()\n",
    "print(extract_matches(text))"
   ]
  },
  {
   "cell_type": "code",
   "execution_count": 22,
   "id": "e0266dbe-19ce-4c4c-9af3-84fae937daac",
   "metadata": {},
   "outputs": [
    {
     "name": "stdin",
     "output_type": "stream",
     "text": [
      " su_sabyn, sy sabyn, Su\n"
     ]
    },
    {
     "name": "stdout",
     "output_type": "stream",
     "text": [
      "['su_sabyn']\n"
     ]
    }
   ],
   "source": [
    "#Task 3\n",
    "import re\n",
    "def case(text):\n",
    "    pattern = r'\\b[a-z]+_[a-z]+\\b'\n",
    "    return re.findall(pattern, text)\n",
    "text = input()\n",
    "print(case(text))"
   ]
  },
  {
   "cell_type": "code",
   "execution_count": 24,
   "id": "a07d3c18-858f-4522-b7ad-dd65be43bc37",
   "metadata": {},
   "outputs": [
    {
     "name": "stdin",
     "output_type": "stream",
     "text": [
      " Sabyn, sabyn, su_sabyn\n"
     ]
    },
    {
     "name": "stdout",
     "output_type": "stream",
     "text": [
      "['Sabyn']\n"
     ]
    }
   ],
   "source": [
    "#Task 4\n",
    "import re\n",
    "def case(text):\n",
    "    pattern = r'\\b[A-Z][a-z]+\\b'\n",
    "    return re.findall(pattern, text)\n",
    "text = input()\n",
    "print(case(text))"
   ]
  },
  {
   "cell_type": "code",
   "execution_count": 36,
   "id": "7b14fb93-6954-4375-b792-852ce8bf0057",
   "metadata": {},
   "outputs": [
    {
     "name": "stdin",
     "output_type": "stream",
     "text": [
      " asfkdlfklb, lfgl;f, g;lf;lg;, ad\n"
     ]
    },
    {
     "name": "stdout",
     "output_type": "stream",
     "text": [
      "['asfkdlfklb']\n"
     ]
    }
   ],
   "source": [
    "#Task 5\n",
    "import re\n",
    "def case(text):\n",
    "    pattern = r'\\ba.*b\\b'\n",
    "    return re.findall(pattern, text)\n",
    "text = input()\n",
    "print(case(text))"
   ]
  },
  {
   "cell_type": "code",
   "execution_count": 38,
   "id": "53fab245-6e1f-47e6-b036-c59586b35b63",
   "metadata": {},
   "outputs": [
    {
     "name": "stdin",
     "output_type": "stream",
     "text": [
      " asa.asas dfsd,dfd\n"
     ]
    },
    {
     "name": "stdout",
     "output_type": "stream",
     "text": [
      "asa:asas:dfsd:dfd\n"
     ]
    }
   ],
   "source": [
    "#Task 6\n",
    "import re\n",
    "def case(text):\n",
    "    pattern = r'[ ,.]'\n",
    "    return re.sub(pattern, ':', text)\n",
    "text = input()\n",
    "print(case(text))"
   ]
  },
  {
   "cell_type": "code",
   "execution_count": 42,
   "id": "22be8c6d-5b23-4de4-b8e1-2dc99cb5179f",
   "metadata": {},
   "outputs": [
    {
     "name": "stdin",
     "output_type": "stream",
     "text": [
      " camel_case_snake_case\n"
     ]
    },
    {
     "name": "stdout",
     "output_type": "stream",
     "text": [
      "camelCaseSnakeCase\n"
     ]
    }
   ],
   "source": [
    "#Task 7\n",
    "import re\n",
    "def case(text):\n",
    "    words = text.split('_') \n",
    "    return words[0] + ''.join(word.capitalize() for word in words[1:])\n",
    "text = input()\n",
    "print(case(text))"
   ]
  },
  {
   "cell_type": "code",
   "execution_count": 46,
   "id": "cb2cbdc6-89dd-4fc2-b1b2-072e039d6e5b",
   "metadata": {},
   "outputs": [
    {
     "name": "stdin",
     "output_type": "stream",
     "text": [
      " IAmHere\n"
     ]
    },
    {
     "name": "stdout",
     "output_type": "stream",
     "text": [
      "['I', 'Am', 'Here']\n"
     ]
    }
   ],
   "source": [
    "#Task 8\n",
    "import re\n",
    "def case(text):\n",
    "    pattern = r'([A-Z][a-z]*)'\n",
    "    return re.findall(pattern, text)\n",
    "text = input()\n",
    "print(case(text))"
   ]
  },
  {
   "cell_type": "code",
   "execution_count": 50,
   "id": "b450a505-794f-42a6-a789-adb9410fc2b9",
   "metadata": {},
   "outputs": [
    {
     "name": "stdin",
     "output_type": "stream",
     "text": [
      " IAmHere\n"
     ]
    },
    {
     "name": "stdout",
     "output_type": "stream",
     "text": [
      "I Am Here\n"
     ]
    }
   ],
   "source": [
    "#Task 9\n",
    "import re\n",
    "def case(text):\n",
    "    return ' '.join(re.findall('[A-Z][a-z]*', text))\n",
    "text = input()\n",
    "print(case(text))"
   ]
  },
  {
   "cell_type": "code",
   "execution_count": 56,
   "id": "139e1783-e8f4-4193-a099-5437adc82e5c",
   "metadata": {},
   "outputs": [
    {
     "name": "stdin",
     "output_type": "stream",
     "text": [
      " CamelCase\n"
     ]
    },
    {
     "name": "stdout",
     "output_type": "stream",
     "text": [
      "Camel_Case\n"
     ]
    }
   ],
   "source": [
    "#Task 10\n",
    "import re\n",
    "def case(text):\n",
    "    pattern = r'([A-Za-z][a-z]*)'\n",
    "    return '_'.join(re.findall(pattern, text))\n",
    "text = input()\n",
    "print(case(text))"
   ]
  },
  {
   "cell_type": "code",
   "execution_count": null,
   "id": "21e1877f-700f-4cd1-9c43-9c1b102ea29b",
   "metadata": {},
   "outputs": [],
   "source": []
  }
 ],
 "metadata": {
  "kernelspec": {
   "display_name": "Python [conda env:base] *",
   "language": "python",
   "name": "conda-base-py"
  },
  "language_info": {
   "codemirror_mode": {
    "name": "ipython",
    "version": 3
   },
   "file_extension": ".py",
   "mimetype": "text/x-python",
   "name": "python",
   "nbconvert_exporter": "python",
   "pygments_lexer": "ipython3",
   "version": "3.12.7"
  }
 },
 "nbformat": 4,
 "nbformat_minor": 5
}
