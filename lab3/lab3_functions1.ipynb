{
 "cells": [
  {
   "cell_type": "code",
   "execution_count": 1,
   "id": "5c75eb0d-31ae-49c6-ac39-01e7cf73ec42",
   "metadata": {},
   "outputs": [
    {
     "name": "stdin",
     "output_type": "stream",
     "text": [
      "Enter weight in grams:  133\n"
     ]
    },
    {
     "name": "stdout",
     "output_type": "stream",
     "text": [
      "133.0 grams is equal to 4.6914 ounces\n"
     ]
    }
   ],
   "source": [
    "#task 1\n",
    "def grams_to_ounces(grams):\n",
    "    ounces = grams / 28.3495231\n",
    "    return ounces\n",
    "\n",
    "gram_input = float(input(\"Enter weight in grams: \"))\n",
    "print(f\"{gram_input} grams is equal to {grams_to_ounces(gram_input):.4f} ounces\")"
   ]
  },
  {
   "cell_type": "code",
   "execution_count": 3,
   "id": "6c19a0bf-8430-418a-871f-a5c7078b2712",
   "metadata": {},
   "outputs": [
    {
     "name": "stdin",
     "output_type": "stream",
     "text": [
      "Enter temperature in Fahrenheit:  56\n"
     ]
    },
    {
     "name": "stdout",
     "output_type": "stream",
     "text": [
      "56.0 Fahrenheit is equal to 13.33 Celsius\n"
     ]
    }
   ],
   "source": [
    "#taks 2\n",
    "def fahrenheit_to_celsius(fahrenheit):\n",
    "    celsius = (5 / 9) * (fahrenheit - 32)\n",
    "    return celsius\n",
    "fahrenheit_input = float(input(\"Enter temperature in Fahrenheit: \"))\n",
    "print(f\"{fahrenheit_input} Fahrenheit is equal to {fahrenheit_to_celsius(fahrenheit_input):.2f} Celsius\")"
   ]
  },
  {
   "cell_type": "code",
   "execution_count": 5,
   "id": "ee15de18-71bd-4dc9-80ab-888112ee8654",
   "metadata": {},
   "outputs": [
    {
     "name": "stdout",
     "output_type": "stream",
     "text": [
      "Number of chickens: 23, Number of rabbits: 12\n"
     ]
    }
   ],
   "source": [
    "#task 3\n",
    "def solve(numheads, numlegs):\n",
    "    for chickens in range(numheads + 1):\n",
    "        rabbits = numheads - chickens\n",
    "        if (chickens * 2 + rabbits * 4) == numlegs:\n",
    "            return chickens, rabbits\n",
    "    return None, None\n",
    "numheads = 35\n",
    "numlegs = 94\n",
    "chickens, rabbits = solve(numheads, numlegs)\n",
    "if chickens is not None and rabbits is not None:\n",
    "    print(f\"Number of chickens: {chickens}, Number of rabbits: {rabbits}\")\n",
    "else:\n",
    "    print(\"No solution found.\")"
   ]
  },
  {
   "cell_type": "code",
   "execution_count": 7,
   "id": "86ef6938-3ed0-4477-a04f-d35b12410f4b",
   "metadata": {},
   "outputs": [
    {
     "name": "stdin",
     "output_type": "stream",
     "text": [
      "Enter numbers separated by spaces:  1 2 3 4 6 78 45 34 23\n"
     ]
    },
    {
     "name": "stdout",
     "output_type": "stream",
     "text": [
      "Prime numbers: [2, 3, 23]\n"
     ]
    }
   ],
   "source": [
    "#task 4\n",
    "def is_prime(n):\n",
    "    if n < 2:\n",
    "        return False\n",
    "    for i in range(2, int(n ** 0.5) + 1):\n",
    "        if n % i == 0:\n",
    "            return False\n",
    "    return True\n",
    "def filter_prime(numbers):\n",
    "    return [num for num in numbers if is_prime(num)]\n",
    "num_list = list(map(int, input(\"Enter numbers separated by spaces: \").split()))\n",
    "prime_numbers = filter_prime(num_list)\n",
    "print(\"Prime numbers:\", prime_numbers)"
   ]
  },
  {
   "cell_type": "code",
   "execution_count": 11,
   "id": "be87b719-c005-4410-ba05-4260cb5123e6",
   "metadata": {},
   "outputs": [
    {
     "name": "stdin",
     "output_type": "stream",
     "text": [
      "Enter a string:  ghf\n"
     ]
    },
    {
     "name": "stdout",
     "output_type": "stream",
     "text": [
      "Permutations:\n",
      "ghf\n",
      "gfh\n",
      "hgf\n",
      "hfg\n",
      "fgh\n",
      "fhg\n"
     ]
    }
   ],
   "source": [
    "#task 5\n",
    "from itertools import permutations\n",
    "def print_permutations(s):\n",
    "    perms = permutations(s)\n",
    "    for perm in perms:\n",
    "        print(''.join(perm))\n",
    "user_input = input(\"Enter a string: \")\n",
    "print(\"Permutations:\")\n",
    "print_permutations(user_input)"
   ]
  },
  {
   "cell_type": "code",
   "execution_count": 13,
   "id": "77b5912b-17a5-4196-943a-4bfaf43293f1",
   "metadata": {},
   "outputs": [
    {
     "name": "stdin",
     "output_type": "stream",
     "text": [
      "Enter a sentence:  fun day\n"
     ]
    },
    {
     "name": "stdout",
     "output_type": "stream",
     "text": [
      "Reversed sentence: day fun\n"
     ]
    }
   ],
   "source": [
    "#task 6\n",
    "def reverse_words(sentence):\n",
    "    \"\"\"Return a sentence with words reversed.\"\"\"\n",
    "    return ' '.join(sentence.split()[::-1])\n",
    "user_input = input(\"Enter a sentence: \")\n",
    "print(\"Reversed sentence:\", reverse_words(user_input))"
   ]
  },
  {
   "cell_type": "code",
   "execution_count": 15,
   "id": "dabd4412-515e-4b97-873b-a16f40e9cb34",
   "metadata": {},
   "outputs": [
    {
     "name": "stdout",
     "output_type": "stream",
     "text": [
      "True\n",
      "False\n",
      "False\n"
     ]
    }
   ],
   "source": [
    "#task 7\n",
    "def has_33(nums):\n",
    "    for i in range(len(nums) - 1):\n",
    "        if nums[i] == 3 and nums[i + 1] == 3:\n",
    "            return True\n",
    "    return False\n",
    "print(has_33([1, 3, 3])) \n",
    "print(has_33([1, 3, 1, 3])) \n",
    "print(has_33([3, 1, 3]))  "
   ]
  },
  {
   "cell_type": "code",
   "execution_count": 17,
   "id": "7d2f32a2-b24a-472a-b5aa-5a28517d6779",
   "metadata": {},
   "outputs": [
    {
     "name": "stdout",
     "output_type": "stream",
     "text": [
      "True\n",
      "True\n",
      "False\n"
     ]
    }
   ],
   "source": [
    "#task 8\n",
    "def spy_game(nums):\n",
    "    code = [0, 0, 7]\n",
    "    for num in nums:\n",
    "        if code and num == code[0]:\n",
    "            code.pop(0)\n",
    "        if not code:\n",
    "            return True\n",
    "    return False\n",
    "print(spy_game([1,2,4,0,0,7,5])) \n",
    "print(spy_game([1,0,2,4,0,5,7])) \n",
    "print(spy_game([1,7,2,0,4,5,0]))"
   ]
  },
  {
   "cell_type": "code",
   "execution_count": 23,
   "id": "c5ee54e5-2dd7-48a5-ac08-ad7d151f98b7",
   "metadata": {},
   "outputs": [
    {
     "name": "stdin",
     "output_type": "stream",
     "text": [
      " 34\n"
     ]
    },
    {
     "name": "stdout",
     "output_type": "stream",
     "text": [
      "164636.21020892428\n"
     ]
    }
   ],
   "source": [
    "#task 9\n",
    "import math\n",
    "\n",
    "def sphere_volume(radius):\n",
    "    return (4/3) * math.pi * radius**3\n",
    "\n",
    "radius = float(input())\n",
    "print(sphere_volume(radius))"
   ]
  },
  {
   "cell_type": "code",
   "execution_count": 25,
   "id": "8dd1094e-40de-45c0-9752-99136b3c828f",
   "metadata": {},
   "outputs": [
    {
     "name": "stdin",
     "output_type": "stream",
     "text": [
      " 1 2 3 4 2 1 \n"
     ]
    },
    {
     "name": "stdout",
     "output_type": "stream",
     "text": [
      "[1, 2, 3, 4]\n"
     ]
    }
   ],
   "source": [
    "#task 10\n",
    "def unique_elements(lst):\n",
    "    unique_list = []\n",
    "    for item in lst:\n",
    "        if item not in unique_list:\n",
    "            unique_list.append(item)\n",
    "    return unique_list\n",
    "input_list = list(map(int, input().split()))\n",
    "print(unique_elements(input_list))"
   ]
  },
  {
   "cell_type": "code",
   "execution_count": 27,
   "id": "ff7978c0-05fc-44bf-9d69-bb33ea76b466",
   "metadata": {},
   "outputs": [
    {
     "name": "stdin",
     "output_type": "stream",
     "text": [
      " fjf\n"
     ]
    },
    {
     "name": "stdout",
     "output_type": "stream",
     "text": [
      "True\n"
     ]
    }
   ],
   "source": [
    "#task 11\n",
    "def is_palindrome(s):\n",
    "    s = ''.join(s.lower().split()) \n",
    "    return s == s[::-1]\n",
    "user_input = input()\n",
    "print(is_palindrome(user_input))"
   ]
  },
  {
   "cell_type": "code",
   "execution_count": 33,
   "id": "19e91caf-066b-453e-839f-4467913ba723",
   "metadata": {},
   "outputs": [
    {
     "name": "stdin",
     "output_type": "stream",
     "text": [
      " 3 4 6\n"
     ]
    },
    {
     "name": "stdout",
     "output_type": "stream",
     "text": [
      "***\n",
      "****\n",
      "******\n"
     ]
    }
   ],
   "source": [
    "#task 12\n",
    "def histogram(numbers):\n",
    "    for num in numbers:\n",
    "        print('*' * num)\n",
    "numbers = list(map(int, input().split()))\n",
    "histogram(numbers)"
   ]
  },
  {
   "cell_type": "code",
   "execution_count": 35,
   "id": "b71e35b1-e4b3-4dce-8643-3fe0041dafcd",
   "metadata": {},
   "outputs": [
    {
     "name": "stdout",
     "output_type": "stream",
     "text": [
      "Hello! What is your name?\n"
     ]
    },
    {
     "name": "stdin",
     "output_type": "stream",
     "text": [
      " g\n"
     ]
    },
    {
     "name": "stdout",
     "output_type": "stream",
     "text": [
      "\n",
      "Well, g, I am thinking of a number between 1 and 20.\n",
      "Take a guess.\n"
     ]
    },
    {
     "name": "stdin",
     "output_type": "stream",
     "text": [
      " 12\n"
     ]
    },
    {
     "name": "stdout",
     "output_type": "stream",
     "text": [
      "Your guess is too high.\n",
      "Take a guess.\n"
     ]
    },
    {
     "name": "stdin",
     "output_type": "stream",
     "text": [
      " 3\n"
     ]
    },
    {
     "name": "stdout",
     "output_type": "stream",
     "text": [
      "Your guess is too low.\n",
      "Take a guess.\n"
     ]
    },
    {
     "name": "stdin",
     "output_type": "stream",
     "text": [
      " 10\n"
     ]
    },
    {
     "name": "stdout",
     "output_type": "stream",
     "text": [
      "Your guess is too high.\n",
      "Take a guess.\n"
     ]
    },
    {
     "name": "stdin",
     "output_type": "stream",
     "text": [
      " 9\n"
     ]
    },
    {
     "name": "stdout",
     "output_type": "stream",
     "text": [
      "Your guess is too high.\n",
      "Take a guess.\n"
     ]
    },
    {
     "name": "stdin",
     "output_type": "stream",
     "text": [
      " 6\n"
     ]
    },
    {
     "name": "stdout",
     "output_type": "stream",
     "text": [
      "Good job, g! You guessed my number in 5 guesses!\n"
     ]
    }
   ],
   "source": [
    "#task 13\n",
    "import random\n",
    "def guess_the_number():\n",
    "    print(\"Hello! What is your name?\")\n",
    "    name = input()\n",
    "    print(f\"\\nWell, {name}, I am thinking of a number between 1 and 20.\")\n",
    "    secret_number = random.randint(1, 20)\n",
    "    attempts = 0\n",
    "    while True:\n",
    "        print(\"Take a guess.\")\n",
    "        guess = int(input())\n",
    "        attempts += 1\n",
    "        if guess < secret_number:\n",
    "            print(\"Your guess is too low.\")\n",
    "        elif guess > secret_number:\n",
    "            print(\"Your guess is too high.\")\n",
    "        else:\n",
    "            print(f\"Good job, {name}! You guessed my number in {attempts} guesses!\")\n",
    "            break\n",
    "guess_the_number()"
   ]
  },
  {
   "cell_type": "code",
   "execution_count": null,
   "id": "fadabe22-1cb4-4393-8d85-91f95f736837",
   "metadata": {},
   "outputs": [],
   "source": []
  },
  {
   "cell_type": "code",
   "execution_count": null,
   "id": "6825f61e-ff38-4236-bcd4-8d739c5b4aeb",
   "metadata": {},
   "outputs": [],
   "source": []
  }
 ],
 "metadata": {
  "kernelspec": {
   "display_name": "Python [conda env:base] *",
   "language": "python",
   "name": "conda-base-py"
  },
  "language_info": {
   "codemirror_mode": {
    "name": "ipython",
    "version": 3
   },
   "file_extension": ".py",
   "mimetype": "text/x-python",
   "name": "python",
   "nbconvert_exporter": "python",
   "pygments_lexer": "ipython3",
   "version": "3.12.7"
  }
 },
 "nbformat": 4,
 "nbformat_minor": 5
}
