{
 "cells": [
  {
   "cell_type": "code",
   "execution_count": 24,
   "id": "aaea4396-0e58-4ae9-8a99-0eb1c412fe5b",
   "metadata": {},
   "outputs": [
    {
     "name": "stdout",
     "output_type": "stream",
     "text": [
      "HELLO WORLD\n"
     ]
    }
   ],
   "source": [
    "#task 1\n",
    "class MyString:\n",
    "    def __init__(self, input_string=\"\"):\n",
    "        self.input_string = input_string\n",
    "    def getString(self, input_string=\"\"):\n",
    "        self.input_string = input_string\n",
    "    \n",
    "    def printString(self):\n",
    "        print(self.input_string.upper())\n",
    "p1 = MyString(\"hello world\")\n",
    "p1.printString()"
   ]
  },
  {
   "cell_type": "code",
   "execution_count": 32,
   "id": "23516cee-887b-4ca7-8875-e88197d903e9",
   "metadata": {},
   "outputs": [
    {
     "name": "stdout",
     "output_type": "stream",
     "text": [
      "25\n"
     ]
    }
   ],
   "source": [
    "#task 2\n",
    "class Shape:\n",
    "    def __init__(self):\n",
    "        pass\n",
    "class Square(Shape):\n",
    "    def __init__(self, length):\n",
    "        super().__init__()\n",
    "        self.length = length\n",
    "    def area(self):\n",
    "        return self.length ** 2\n",
    "\n",
    "shape = Shape()\n",
    "square = Square(5)\n",
    "print(square.area())"
   ]
  },
  {
   "cell_type": "code",
   "execution_count": 36,
   "id": "40b78742-ffbf-44ce-88aa-8133462fdc4c",
   "metadata": {},
   "outputs": [
    {
     "name": "stdout",
     "output_type": "stream",
     "text": [
      "30\n"
     ]
    }
   ],
   "source": [
    "#task 3: \n",
    "class Shape:\n",
    "    def __init__(self):\n",
    "        pass\n",
    "class Rectangle(Shape): \n",
    "    def __init__(self, length, width): \n",
    "        super().__init__()\n",
    "        self.length = length\n",
    "        self.width = width\n",
    "    def area(self):\n",
    "        return self.length * self.width\n",
    "shape = Shape()\n",
    "rec = Rectangle(5, 6)\n",
    "print(rec.area())"
   ]
  },
  {
   "cell_type": "code",
   "execution_count": 42,
   "id": "257044bf-182f-4cc1-a610-6381e7eb8ae1",
   "metadata": {},
   "outputs": [
    {
     "name": "stdout",
     "output_type": "stream",
     "text": [
      "Point(3, 4)\n",
      "Point(6, 8)\n",
      "5.0\n"
     ]
    }
   ],
   "source": [
    "#task 4\n",
    "import math\n",
    "class Point:\n",
    "    def __init__(self, x, y):\n",
    "        self.x = x\n",
    "        self.y = y\n",
    "    def show(self):\n",
    "        print(f\"Point({self.x}, {self.y})\")\n",
    "    def move(self, new_x, new_y):\n",
    "        self.x = new_x\n",
    "        self.y = new_y\n",
    "    def dist(self, other_point):\n",
    "        return math.sqrt((self.x - other_point.x) ** 2 + (self.y - other_point.y) ** 2)\n",
    "\n",
    "p1 = Point(3, 4)\n",
    "p2 = Point(6, 8)\n",
    "\n",
    "p1.show()\n",
    "p2.show() \n",
    "\n",
    "print(p1.dist(p2)) "
   ]
  },
  {
   "cell_type": "code",
   "execution_count": 44,
   "id": "01dc92fb-1844-4aaf-8b36-be12fb1c3e44",
   "metadata": {},
   "outputs": [
    {
     "name": "stdout",
     "output_type": "stream",
     "text": [
      "Account owner: John Doe\n",
      "Account balance: 500\n",
      "Deposit of 200 made. New balance: 700\n",
      "Withdrawal of 100 made. New balance: 600\n",
      "Insufficient funds! Available balance: 600\n",
      "Withdrawal amount must be positive.\n",
      "Deposit of 300 made. New balance: 900\n",
      "Withdrawal of 600 made. New balance: 300\n",
      "Account owner: John Doe\n",
      "Account balance: 300\n"
     ]
    }
   ],
   "source": [
    "#task 5\n",
    "class Account:\n",
    "    def __init__(self, owner, balance=0):\n",
    "        self.owner = owner\n",
    "        self.balance = balance\n",
    "\n",
    "    def deposit(self, amount):\n",
    "        if amount > 0:\n",
    "            self.balance += amount\n",
    "            print(f\"Deposit of {amount} made. New balance: {self.balance}\")\n",
    "        else:\n",
    "            print(\"Deposit amount must be positive.\")\n",
    "\n",
    "    def withdraw(self, amount):\n",
    "        if amount > self.balance:\n",
    "            print(f\"Insufficient funds! Available balance: {self.balance}\")\n",
    "        elif amount <= 0:\n",
    "            print(\"Withdrawal amount must be positive.\")\n",
    "        else:\n",
    "            self.balance -= amount\n",
    "            print(f\"Withdrawal of {amount} made. New balance: {self.balance}\")\n",
    "\n",
    "    def __str__(self):\n",
    "        return f\"Account owner: {self.owner}\\nAccount balance: {self.balance}\"\n",
    "\n",
    "acc = Account(\"John Doe\", 500)\n",
    "\n",
    "print(acc) \n",
    "\n",
    "acc.deposit(200) \n",
    "acc.withdraw(100)  \n",
    "acc.withdraw(700)  \n",
    "acc.withdraw(-50)  \n",
    "acc.deposit(300)  \n",
    "acc.withdraw(600) \n",
    "\n",
    "print(acc)"
   ]
  },
  {
   "cell_type": "code",
   "execution_count": 48,
   "id": "af0c3b36-4abb-440b-9745-e12b3b1df885",
   "metadata": {},
   "outputs": [
    {
     "name": "stdout",
     "output_type": "stream",
     "text": [
      "[2, 3, 5, 7, 11, 13, 17, 19, 23, 29]\n"
     ]
    }
   ],
   "source": [
    "#task 6\n",
    "def is_prime(n):\n",
    "    if n < 2:\n",
    "        return False\n",
    "    return all(n % i != 0 for i in range(2, int(n ** 0.5) + 1))\n",
    "numbers = [2, 3, 4, 5, 6, 7, 8, 9, 10, 11, 13, 17, 19, 23, 24, 29, 30]\n",
    "prime_numbers = list(filter(lambda x: is_prime(x), numbers))\n",
    "print(prime_numbers)"
   ]
  },
  {
   "cell_type": "code",
   "execution_count": null,
   "id": "78b76cfa-e0c1-4135-b292-2bebbaadca89",
   "metadata": {},
   "outputs": [],
   "source": []
  }
 ],
 "metadata": {
  "kernelspec": {
   "display_name": "Python [conda env:base] *",
   "language": "python",
   "name": "conda-base-py"
  },
  "language_info": {
   "codemirror_mode": {
    "name": "ipython",
    "version": 3
   },
   "file_extension": ".py",
   "mimetype": "text/x-python",
   "name": "python",
   "nbconvert_exporter": "python",
   "pygments_lexer": "ipython3",
   "version": "3.12.7"
  }
 },
 "nbformat": 4,
 "nbformat_minor": 5
}
