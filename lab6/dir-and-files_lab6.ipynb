{
 "cells": [
  {
   "cell_type": "code",
   "execution_count": 14,
   "id": "13b76499-8d66-4c40-880e-267318012108",
   "metadata": {},
   "outputs": [
    {
     "name": "stdin",
     "output_type": "stream",
     "text": [
      "Enter the directory path:  /Users/nuraimuhambet/Downloads\n"
     ]
    },
    {
     "name": "stdout",
     "output_type": "stream",
     "text": [
      "\n",
      "Directories: ['Copy of Love Tickets Machine, копия', 'githowto']\n",
      "Files: ['digital_sat_k12_student_weekend_137060527_2c590b41-60d4-477f-8da4-2ce1605fdfca.pdf', 'SketchUp-2024-0-554-221.dmg', 'Copy of Love Tickets Machine, копия (1).pdf', 'satsuperscore.pdf', 'CV.docx', '~$commendation letter_by_Nuray Mukhambet.docx', 'hello.html.rtf', '.DS_Store', 'json_lab4.py', 'quiz2(midterm).pdf', 'Personal Statement.pdf', 'internet_friends.docx', 'recommendation letter by Mr Paul.pdf', 'githowto.zip', '.localized', 'digital_sat_k12_student_weekend_137060527_24f51e44-f4d9-4c19-a640-c4dce37d6b11.pdf', 'week4_nuray.docx', '~$Financial data copy 2.xlsm', 'national_exam.pdf', 'quiz1.pdf', 'passport.pdf', '~$ллабус КБТУ Қазақстан тарихы.docx', 'transcript.pdf', 'Copy of Love Tickets Machine, копия.pdf', 'trscrpt.pdf', 'lec4_Introduction to Number Theory (cont.).pdf', 'TEXT 2 Sikweyiya_2020_Patriarchal attitudes domestic violence Ghana.pdf', 'IELTS.pdf', 'obs-studio-31.0.1-macos-apple.dmg', 'Copy of Love Tickets Machine, копия.zip', 'sem-4 (Intro to Number Theory).pdf', 'sample-data.json', 'sem-3 (Intro to Number Theory) (1).pdf', 'recommendation letter by Aigerim Shaimerdenova.pdf', 'lec3_Introduction to Number Theory.pdf', 'internet_friends (1).pdf', 'transcript_10-12.pdf', 'Bibliography_Nuray_Mukhambet.docx', 'Midterm_Calculus2.pdf', 'transcript.docx', 'CV.pdf', 'internet_friends.pdf']\n",
      "All contents: ['digital_sat_k12_student_weekend_137060527_2c590b41-60d4-477f-8da4-2ce1605fdfca.pdf', 'Copy of Love Tickets Machine, копия', 'SketchUp-2024-0-554-221.dmg', 'Copy of Love Tickets Machine, копия (1).pdf', 'satsuperscore.pdf', 'CV.docx', '~$commendation letter_by_Nuray Mukhambet.docx', 'hello.html.rtf', '.DS_Store', 'json_lab4.py', 'quiz2(midterm).pdf', 'Personal Statement.pdf', 'internet_friends.docx', 'recommendation letter by Mr Paul.pdf', 'githowto.zip', '.localized', 'digital_sat_k12_student_weekend_137060527_24f51e44-f4d9-4c19-a640-c4dce37d6b11.pdf', 'week4_nuray.docx', '~$Financial data copy 2.xlsm', 'national_exam.pdf', 'quiz1.pdf', 'passport.pdf', '~$ллабус КБТУ Қазақстан тарихы.docx', 'transcript.pdf', 'Copy of Love Tickets Machine, копия.pdf', 'trscrpt.pdf', 'lec4_Introduction to Number Theory (cont.).pdf', 'TEXT 2 Sikweyiya_2020_Patriarchal attitudes domestic violence Ghana.pdf', 'IELTS.pdf', 'obs-studio-31.0.1-macos-apple.dmg', 'Copy of Love Tickets Machine, копия.zip', 'sem-4 (Intro to Number Theory).pdf', 'sample-data.json', 'sem-3 (Intro to Number Theory) (1).pdf', 'recommendation letter by Aigerim Shaimerdenova.pdf', 'lec3_Introduction to Number Theory.pdf', 'internet_friends (1).pdf', 'githowto', 'transcript_10-12.pdf', 'Bibliography_Nuray_Mukhambet.docx', 'Midterm_Calculus2.pdf', 'transcript.docx', 'CV.pdf', 'internet_friends.pdf']\n"
     ]
    }
   ],
   "source": [
    "#Task 1\n",
    "import os\n",
    "\n",
    "def list_directories(path):\n",
    "    return [d for d in os.listdir(path) if os.path.isdir(os.path.join(path, d))]\n",
    "def list_files(path):\n",
    "    return [f for f in os.listdir(path) if os.path.isfile(os.path.join(path, f))]\n",
    "def list_all(path):\n",
    "    return os.listdir(path)\n",
    "path = input(\"Enter the directory path: \")\n",
    "if not os.path.exists(path):\n",
    "    print(\"Invalid path. Please enter a valid directory path.\")\n",
    "else:\n",
    "    print(\"\\nDirectories:\", list_directories(path))\n",
    "    print(\"Files:\", list_files(path))\n",
    "    print(\"All contents:\", list_all(path))"
   ]
  },
  {
   "cell_type": "code",
   "execution_count": 16,
   "id": "139f843b-4934-4924-ab90-bef735e4a091",
   "metadata": {},
   "outputs": [
    {
     "name": "stdin",
     "output_type": "stream",
     "text": [
      "Enter the file or directory path:  /Users/nuraimuhambet/Downloads/json_lab4.py\n"
     ]
    },
    {
     "name": "stdout",
     "output_type": "stream",
     "text": [
      "Checking access for: /Users/nuraimuhambet/Downloads/json_lab4.py\n",
      "\n",
      "Readable\n",
      "Writable\n",
      "Not Executable\n"
     ]
    }
   ],
   "source": [
    "#Task 2\n",
    "import os\n",
    "\n",
    "def check_path_access(path):    \n",
    "    if not os.path.exists(path):\n",
    "        print(f\"The path '{path}' does NOT exist.\")\n",
    "        return\n",
    "    print(f\"Checking access for: {path}\\n\")    \n",
    "    if os.access(path, os.R_OK):\n",
    "        print(\"Readable\")\n",
    "    else:\n",
    "        print(\"Not Readable\")\n",
    "    if os.access(path, os.W_OK):\n",
    "        print(\"Writable\")\n",
    "    else:\n",
    "        print(\"Not Writable\")\n",
    "    if os.access(path, os.X_OK):\n",
    "        print(\"Executable\")\n",
    "    else:\n",
    "        print(\"Not Executable\")\n",
    "path = input(\"Enter the file or directory path: \")\n",
    "check_path_access(path)"
   ]
  },
  {
   "cell_type": "code",
   "execution_count": 18,
   "id": "b84b2fc8-7005-4abd-a823-c0d6c19be184",
   "metadata": {},
   "outputs": [
    {
     "name": "stdin",
     "output_type": "stream",
     "text": [
      "Enter the file or directory path:  /Users/nuraimuhambet/Downloads/json_lab4.py\n"
     ]
    },
    {
     "name": "stdout",
     "output_type": "stream",
     "text": [
      "The path '/Users/nuraimuhambet/Downloads/json_lab4.py' exists.\n",
      "\n",
      "Directory: /Users/nuraimuhambet/Downloads\n",
      "Filename: json_lab4.py\n"
     ]
    }
   ],
   "source": [
    "#Task 3\n",
    "import os\n",
    "\n",
    "def check_path_details(path):\n",
    "    if not os.path.exists(path):\n",
    "        print(f\"The path '{path}' does NOT exist.\")\n",
    "        return\n",
    "    print(f\"The path '{path}' exists.\\n\")\n",
    "    directory = os.path.dirname(path)\n",
    "    filename = os.path.basename(path)\n",
    "\n",
    "    print(f\"Directory: {directory}\")\n",
    "    print(f\"Filename: {filename}\")\n",
    "\n",
    "path = input(\"Enter the file or directory path: \")\n",
    "check_path_details(path)"
   ]
  },
  {
   "cell_type": "code",
   "execution_count": 20,
   "id": "6dd05399-0441-4bfa-9fc0-75af0fcad1fc",
   "metadata": {},
   "outputs": [
    {
     "name": "stdin",
     "output_type": "stream",
     "text": [
      "Enter the text file path:  /Users/nuraimuhambet/Downloads/json_lab4.py\n"
     ]
    },
    {
     "name": "stdout",
     "output_type": "stream",
     "text": [
      "Total number of lines in '/Users/nuraimuhambet/Downloads/json_lab4.py': 20\n"
     ]
    }
   ],
   "source": [
    "#Task 4\n",
    "def count_lines(filename):\n",
    "    try:\n",
    "        with open(filename, 'r', encoding='utf-8') as file:\n",
    "            line_count = sum(1 for line in file)\n",
    "        print(f\"Total number of lines in '{filename}': {line_count}\")\n",
    "    except FileNotFoundError:\n",
    "        print(f\"Error: The file '{filename}' does not exist.\")\n",
    "    except Exception as e:\n",
    "        print(f\"An error occurred: {e}\")\n",
    "filename = input(\"Enter the text file path: \")\n",
    "count_lines(filename)"
   ]
  },
  {
   "cell_type": "code",
   "execution_count": 22,
   "id": "cfae70f8-3a9d-4d29-8eaa-35b3d80b195d",
   "metadata": {},
   "outputs": [
    {
     "name": "stdin",
     "output_type": "stream",
     "text": [
      "Enter the file name to save the list:  /Users/nuraimuhambet/Downloads/internet_friends.docx\n"
     ]
    },
    {
     "name": "stdout",
     "output_type": "stream",
     "text": [
      "List successfully written to '/Users/nuraimuhambet/Downloads/internet_friends.docx'.\n"
     ]
    }
   ],
   "source": [
    "#Task 5\n",
    "def write_list_to_file(filename, data_list):\n",
    "    try:\n",
    "        with open(filename, 'w', encoding='utf-8') as file:\n",
    "            for item in data_list:\n",
    "                file.write(f\"{item}\\n\")\n",
    "        print(f\"List successfully written to '{filename}'.\")\n",
    "    except Exception as e:\n",
    "        print(f\"An error occurred: {e}\")\n",
    "data = [\"Apple\", \"Banana\", \"Cherry\", \"Date\", \"Elderberry\"]\n",
    "filename = input(\"Enter the file name to save the list: \")\n",
    "write_list_to_file(filename, data)"
   ]
  },
  {
   "cell_type": "code",
   "execution_count": 26,
   "id": "b3c2de39-a16b-48b3-895d-4e2c84ec9890",
   "metadata": {},
   "outputs": [
    {
     "name": "stdin",
     "output_type": "stream",
     "text": [
      "Enter the directory to save files (or press Enter for current directory):  \n"
     ]
    },
    {
     "name": "stdout",
     "output_type": "stream",
     "text": [
      "Created: ./A.txt\n",
      "Created: ./B.txt\n",
      "Created: ./C.txt\n",
      "Created: ./D.txt\n",
      "Created: ./E.txt\n",
      "Created: ./F.txt\n",
      "Created: ./G.txt\n",
      "Created: ./H.txt\n",
      "Created: ./I.txt\n",
      "Created: ./J.txt\n",
      "Created: ./K.txt\n",
      "Created: ./L.txt\n",
      "Created: ./M.txt\n",
      "Created: ./N.txt\n",
      "Created: ./O.txt\n",
      "Created: ./P.txt\n",
      "Created: ./Q.txt\n",
      "Created: ./R.txt\n",
      "Created: ./S.txt\n",
      "Created: ./T.txt\n",
      "Created: ./U.txt\n",
      "Created: ./V.txt\n",
      "Created: ./W.txt\n",
      "Created: ./X.txt\n",
      "Created: ./Y.txt\n",
      "Created: ./Z.txt\n"
     ]
    }
   ],
   "source": [
    "#Task 6\n",
    "import os\n",
    "import string\n",
    "\n",
    "def create_text_files(directory):\n",
    "    os.makedirs(directory, exist_ok=True)  \n",
    "    \n",
    "    for letter in string.ascii_uppercase: \n",
    "        filename = os.path.join(directory, f\"{letter}.txt\")\n",
    "        with open(filename, 'w', encoding='utf-8') as file:\n",
    "            file.write(f\"This is file {letter}.txt\\n\")\n",
    "        print(f\"Created: {filename}\")\n",
    "\n",
    "directory = input(\"Enter the directory to save files (or press Enter for current directory): \").strip()\n",
    "directory = directory if directory else \".\" \n",
    "\n",
    "create_text_files(directory)"
   ]
  },
  {
   "cell_type": "code",
   "execution_count": 28,
   "id": "1c2bc041-f53a-43f3-aac9-14c7c9f7e68c",
   "metadata": {},
   "outputs": [
    {
     "name": "stdin",
     "output_type": "stream",
     "text": [
      "Enter the source file path:  /Users/nuraimuhambet/Downloads/internet_friends.docx\n",
      "Enter the destination file path:  /Users/nuraimuhambet/Downloads/Bibliography_Nuray_Mukhambet.docx\n"
     ]
    },
    {
     "name": "stdout",
     "output_type": "stream",
     "text": [
      "Contents copied from '/Users/nuraimuhambet/Downloads/internet_friends.docx' to '/Users/nuraimuhambet/Downloads/Bibliography_Nuray_Mukhambet.docx' successfully.\n"
     ]
    }
   ],
   "source": [
    "#Task 7\n",
    "def copy_file(source, destination):\n",
    "    try:\n",
    "        with open(source, 'r', encoding='utf-8') as src:\n",
    "            content = src.read()\n",
    "        \n",
    "        with open(destination, 'w', encoding='utf-8') as dest:\n",
    "            dest.write(content)\n",
    "\n",
    "        print(f\"Contents copied from '{source}' to '{destination}' successfully.\")\n",
    "    except FileNotFoundError:\n",
    "        print(f\"Error: The file '{source}' does not exist.\")\n",
    "    except Exception as e:\n",
    "        print(f\"An error occurred: {e}\")\n",
    "\n",
    "source_file = input(\"Enter the source file path: \").strip()\n",
    "destination_file = input(\"Enter the destination file path: \").strip()\n",
    "\n",
    "copy_file(source_file, destination_file)"
   ]
  },
  {
   "cell_type": "code",
   "execution_count": 32,
   "id": "61c020d8-d6e5-44b4-b6e5-28b6b8ffdc1f",
   "metadata": {},
   "outputs": [
    {
     "name": "stdin",
     "output_type": "stream",
     "text": [
      "Enter the file path to delete:  /Users/nuraimuhambet/Downloads/internet_friends.docx\n"
     ]
    },
    {
     "name": "stdout",
     "output_type": "stream",
     "text": [
      "✅ File '/Users/nuraimuhambet/Downloads/internet_friends.docx' has been deleted successfully.\n"
     ]
    }
   ],
   "source": [
    "#Task 8\n",
    "import os\n",
    "\n",
    "def delete_file(filepath):    \n",
    "    if not os.path.exists(filepath):\n",
    "        print(f\"Error: The file '{filepath}' does not exist.\")\n",
    "        return    \n",
    "    if not os.access(filepath, os.W_OK):\n",
    "        print(f\"Error: You do not have permission to delete '{filepath}'.\")\n",
    "        return \n",
    "\n",
    "    try:\n",
    "        os.remove(filepath) \n",
    "        print(f\"✅ File '{filepath}' has been deleted successfully.\")\n",
    "    except Exception as e:\n",
    "        print(f\"An error occurred while deleting the file: {e}\")\n",
    "\n",
    "filepath = input(\"Enter the file path to delete: \").strip()\n",
    "delete_file(filepath)"
   ]
  },
  {
   "cell_type": "code",
   "execution_count": null,
   "id": "1bffdf70-9f89-4900-9778-279f123793f0",
   "metadata": {},
   "outputs": [],
   "source": []
  }
 ],
 "metadata": {
  "kernelspec": {
   "display_name": "Python [conda env:base] *",
   "language": "python",
   "name": "conda-base-py"
  },
  "language_info": {
   "codemirror_mode": {
    "name": "ipython",
    "version": 3
   },
   "file_extension": ".py",
   "mimetype": "text/x-python",
   "name": "python",
   "nbconvert_exporter": "python",
   "pygments_lexer": "ipython3",
   "version": "3.12.7"
  }
 },
 "nbformat": 4,
 "nbformat_minor": 5
}
