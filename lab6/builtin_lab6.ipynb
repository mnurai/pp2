{
 "cells": [
  {
   "cell_type": "code",
   "execution_count": 9,
   "id": "6f6083fa-5af5-4a72-9f99-cf6145eb56cb",
   "metadata": {},
   "outputs": [
    {
     "name": "stdin",
     "output_type": "stream",
     "text": [
      " 2, 3, 4\n"
     ]
    },
    {
     "name": "stdout",
     "output_type": "stream",
     "text": [
      "Product of all numbers: 24\n"
     ]
    }
   ],
   "source": [
    "#Task 1\n",
    "import math\n",
    "def multiply_list(numbers):\n",
    "    return math.prod(numbers)\n",
    "numbers_input = input()\n",
    "numbers_list = list(map(int, numbers_input.split(',')))\n",
    "result = multiply_list(numbers_list)\n",
    "print(\"Product of all numbers:\", result)"
   ]
  },
  {
   "cell_type": "code",
   "execution_count": 11,
   "id": "7fdda817-a79b-41bb-ba8a-a323105846d4",
   "metadata": {},
   "outputs": [
    {
     "name": "stdin",
     "output_type": "stream",
     "text": [
      "Enter a string:  asaAassa\n"
     ]
    },
    {
     "name": "stdout",
     "output_type": "stream",
     "text": [
      "Number of uppercase letters: 1\n",
      "Number of lowercase letters: 7\n"
     ]
    }
   ],
   "source": [
    "#Task 2\n",
    "def count_case_letters(s):\n",
    "    upper_count = sum(1 for char in s if char.isupper()) \n",
    "    lower_count = sum(1 for char in s if char.islower())\n",
    "    return upper_count, lower_count\n",
    "s = input(\"Enter a string: \")\n",
    "upper, lower = count_case_letters(s)\n",
    "print(\"Number of uppercase letters:\", upper)\n",
    "print(\"Number of lowercase letters:\", lower)"
   ]
  },
  {
   "cell_type": "code",
   "execution_count": 8,
   "id": "4842477b-cfa2-45df-8ee5-bf0de5deda66",
   "metadata": {},
   "outputs": [
    {
     "name": "stdin",
     "output_type": "stream",
     "text": [
      "Enter a string:  dad\n"
     ]
    },
    {
     "name": "stdout",
     "output_type": "stream",
     "text": [
      "palindrome\n"
     ]
    }
   ],
   "source": [
    "#Task 3\n",
    "def is_palindrome(s):\n",
    "    return s.casefold() == s.casefold()[::-1]  \n",
    "s = input(\"Enter a string: \")\n",
    "if is_palindrome(s):\n",
    "    print(\"palindrome\")\n",
    "else:\n",
    "    print(\"not a palindrome\")"
   ]
  },
  {
   "cell_type": "code",
   "execution_count": 4,
   "id": "c639ea3e-a7e7-4662-964e-821d071f50e6",
   "metadata": {},
   "outputs": [
    {
     "name": "stdin",
     "output_type": "stream",
     "text": [
      " 25100\n",
      " 2123\n"
     ]
    },
    {
     "name": "stdout",
     "output_type": "stream",
     "text": [
      "Square root of 25100 after 2123 milliseconds is 158.42979517754858\n"
     ]
    }
   ],
   "source": [
    "#Task 4\n",
    "import time\n",
    "import math\n",
    "def delayed_square_root(number, delay_ms):\n",
    "    time.sleep(delay_ms / 1000)\n",
    "    result = math.sqrt(number)\n",
    "    print(f\"Square root of {number} after {delay_ms} milliseconds is {result}\")\n",
    "number = int(input())\n",
    "delay_ms = int(input())\n",
    "delayed_square_root(number, delay_ms)"
   ]
  },
  {
   "cell_type": "code",
   "execution_count": 12,
   "id": "7ac8cc81-a794-473d-9606-7d72bf959c3c",
   "metadata": {},
   "outputs": [
    {
     "name": "stdin",
     "output_type": "stream",
     "text": [
      " 2, 4, 6\n"
     ]
    },
    {
     "name": "stdout",
     "output_type": "stream",
     "text": [
      "True\n"
     ]
    }
   ],
   "source": [
    "#Task 5\n",
    "def all_even(t):\n",
    "    return all(num % 2 == 0 for num in t)\n",
    "t = tuple(map(int, input().split(', ')))\n",
    "print(all_even(t))"
   ]
  },
  {
   "cell_type": "code",
   "execution_count": null,
   "id": "fa833ab2-4529-42a2-b63d-c89d10841cf2",
   "metadata": {},
   "outputs": [],
   "source": []
  }
 ],
 "metadata": {
  "kernelspec": {
   "display_name": "Python [conda env:base] *",
   "language": "python",
   "name": "conda-base-py"
  },
  "language_info": {
   "codemirror_mode": {
    "name": "ipython",
    "version": 3
   },
   "file_extension": ".py",
   "mimetype": "text/x-python",
   "name": "python",
   "nbconvert_exporter": "python",
   "pygments_lexer": "ipython3",
   "version": "3.12.7"
  }
 },
 "nbformat": 4,
 "nbformat_minor": 5
}
